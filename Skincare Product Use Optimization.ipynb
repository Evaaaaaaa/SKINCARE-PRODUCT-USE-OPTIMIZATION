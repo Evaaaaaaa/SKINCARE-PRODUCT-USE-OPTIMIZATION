{
 "cells": [
  {
   "cell_type": "markdown",
   "metadata": {},
   "source": [
    "### CS/ECE/ISyE 524 &mdash; Introduction to Optimization &mdash; Summer 2018 ###\n",
    "\n",
    "# Skincare Product Use Optimization #\n",
    "\n",
    "#### Zhihan Li (zli483@wisc.edu), Yihan Li (yihan.li@wisc.edu)\n",
    "\n",
    "### Table of Contents\n",
    "\n",
    "1. [Introduction](#1.-Introduction)\n",
    "2. [Mathematical Model](#2.-Mathematical-model)  \n",
    "   2.1 [Minimizing annual cost of personal skin care products](#2.1-Minimizing-annual-cost-of-personal-skin-care-products)  \n",
    "   2.2 [Balancing skin care products use and public health effects](#2.2-Balancing-skin-care-products-use-and-public-health-effects)         \n",
    "      &nbsp;&nbsp;&nbsp;2.2a [Minimize Adverse Effects while Satisfying Minimal Skin Care Requirement](#2.2a-Minimize-Adverse-Effects-while-Satisfying-Minimal-Skin-Care-Requirement)   \n",
    "      &nbsp;&nbsp;&nbsp;2.2b [Tradeoff between Effects and Adverse Effects of Skin Care Requirement](#2.2b-Tradeoff-between-Effects-and-Adverse-Effects-of-Skin-Care-Requirement)  \n",
    "3. [Solution](#3.-Solution)  \n",
    "   3.1 [Minimize Annual Cost on Personal Skin Care Products](#3.1-Minimize-Annual-Cost-on-Personal-Skin-Care-Products)   \n",
    "   3.2 [Balancing skin care products use and public health effects](#3.2-Balancing-skin-care-products-use-and-public-health-effects)  \n",
    "     &nbsp;&nbsp;&nbsp;3.2a [Minimize Adverse Effects of Public Health](#3.2a-Minimize-Adverse-Effects-of-Public-Health)  \n",
    "     &nbsp;&nbsp;&nbsp;3.2b [Minimize Total Cost and Adverse Effects](#3.2b-Minimize-Total-Cost-and-Adverse-Effects)  \n",
    "4. [Results and Discussion](#4.-Results-and-discussion)  \n",
    "   4.1 [Minimize Annual Cost on Personal Skin Care Products](#4.1-Minimize-Annual-Cost-on-Personal-Skin-Care-Products)  \n",
    "   4.2 [Balancing skin care products use and public health effects](#4.2-Balancing-skin-care-products-use-and-public-health-effects)  \n",
    "  &nbsp;&nbsp;&nbsp; 4.2a [Minimize Adverse Effects of Public Health](#4.2a-Minimize-Adverse-Effects-of-Public-Health)  \n",
    "  &nbsp;&nbsp;&nbsp; 4.2b [Minimize Total Cost and Adverse Effects](#4.2b-Minimize-Total-Cost-and-Adverse-Effects)  \n",
    "   4.3 [Discussion](#4.3-Discussion)  \n",
    "5. [Conclusion](#5.-Conclusion)"
   ]
  },
  {
   "cell_type": "markdown",
   "metadata": {},
   "source": [
    "## 1. Introduction ##\n",
    "\n",
    "This project is designed to explore to optimize the use of personal skin care product use. Personal skin care products are created to meet the demand for better skin. The market now is full of different products which makes it difficult for consumers to decide their choice. In this project, we will build a model to help consumers plan their usage and use an example to illustrate the process.\n",
    "\n",
    "The first model minimizes annual cost on personal skin care products. Every skin care product has their effects and price. In our example, we extracted 20 popular products in 2018 and simply classified their effects into 6 categories: moisturizing, cleaning, uv-protection, anti-aging, soothing, acne-healing. We made questionnaires asking interviewees to rate each product for each effect based on their experience. The average rates were then standardized to rates per ounce. These rates can represent how many “function units” each product can provide for each effect. The price comes from online shop websites, majorly Sephora and Amazon. The data can be modified according to the user’s own opinion about each product in each effect. Our surveyed data is shown below.\n",
    "\n",
    "|Product\\Effect|moisturizing|anti-aging|cleaning|uv-protection|soothing|acne-healing|dollar/oz|\n",
    "|-------|------|-------|--------|--------|--------|--------|-------|\n",
    "|Kiehl's ultra facial cream|5.88|0.00|0.00|0.00|2.94|0.00|\\$11.79|\n",
    "|Belif aqua bomb cream|5.06|0.00|0.00|0.00|3.57|0.00|\\$22.6|\n",
    "|Lancôme Bienfait SPF 30 Cream|4.71|3.53|0.00|4.41|1.76|0.00|\\$28.8|\n",
    "|FAB ultra repair cream|4.75|0.00|0.00|0.00|1.75|2.50|\\$6.00|\n",
    "|CeraVe Daily Moisturizing Lotion|3.17|0.00|0.00|0.00|2.50|1.00|\\$3.50|\n",
    "|Olay Regenerist Facial cream|4.71|4.41|0.00|4.12|2.06|0.59|\\$15.9|\n",
    "|La Roche‑Posay toleriane emulsion|3.34|0.00|0.00|0.00|3.34|1.48|\\$22.2|\n",
    "|Embryolisse Lait Creme Concentre|4.00|0.00|0.00|0.00|0.5|0.00|\\$7.47|\n",
    "|Elta MD cleanser|0.19|0.00|1.19|0.00|1.00|0.00|\\$2.50|\n",
    "|Cetaphil Daily Facial Cleanser|0.25|0.00|1.06|0.00|0.88|0.00|\\$0.79|\n",
    "|Kanebo Freeplus Mild Soap|0.42|0.00|2.83|0.00|2.12|0.00|\\$8.60|\n",
    "|Biore UV aqua rich essense|3.41|1.70|0.00|4.83|2.57|0.00|\\$6.43|\n",
    "|Shiseido anessa uv sunscreen|2.94|5.15|0.00|7.36|2.94|0.00|\\$27.11|\n",
    "|Kiehl's Dark Spot Solution|1.00|2.50|0.00|0.00|5.00|9.50|\\$50.00|\n",
    "|Shiseido ELIXIR day care revolution|3.18|2.97|0.00|8.05|5.08|0.00|\\$28.75|\n",
    "|Decorte Liposome Treatment Liquid|1.49|0.44|0.00|0.00|1.14|0.00|\\$16.67|\n",
    "|Estee Lauder ANR serum|2.00|9.00|0.00|0.00|7.50|9.00|\\$48.21|\n",
    "|SK‑II Facial Treatment Essence|0.40|7.2|0.00|0.00|3.20|6.40|\\$23.78|\n",
    "|La Roche‑Posay Effaclar K(+)|0.00|0.00|1.27|0.00|4.95|8.42|\\$31.87|\n",
    "|THE ORDINARY Retinol in Squalane|4.51|8.42|0.00|0.00|0.00|0.00|\\$5.22|\n",
    "                            Table 1. Product rates in each effect (per ounce)\n",
    "\n",
    "To keep an economical lifestyle, we don’t need to maximize the skin care effects (which will cost a lot), but based on past experience, we have a minimum annual requirement for each effect. An example representing our requirements is shown below. These requirements can be filled by the user’s own demand.\n",
    "\n",
    "|moisturizing|anti-aging|cleaning|uv-protection|soothing|acne-healing|\n",
    "|-------|--------|--------|--------|--------|-------|\n",
    "|25|12|48|24|7|4|\n",
    "                            Table 2. Minimum annual requirements for each effect\n",
    "\n",
    "The second model optimizes the use of skin care products while counting their adverse effects in. Personal care products become a more and more popular topic in ecotoxicity field recent years. Every product contains a list of chemicals which were reported to adversely affect both human health and ecosystem structures. However, the ingredients of these products are usually trade secrets so we cannot make sure that all the data provided below are reliable. Ingredients for these products can be found here: http://www.cosdna.com/. We only kept main active ingredients rather than the whole list in our example. The percentage of each chemical ingredients in this example is from our estimation. \n",
    "\n",
    "\n",
    "\n",
    "\n",
    "\n",
    "\n"
   ]
  },
  {
   "cell_type": "markdown",
   "metadata": {},
   "source": [
    "|Product\\Ingredients|Glycerol|EDTA sodium|Butylglycolyl|Citric acid|Propylene glycol|Phenoxyethanol|Sodium citrate|Ethanol|Methyl acrylate|BHT|Geraniol|Citronellol|Triethanol amine|Salicylic acid|1,3-Propanediol|Caffeine|Yellow 5 (Tartrazine)|Hexanediol|Linalool|Citral|Limonene|Sorbic acid\n",
    "|-------|------|-------|--------|--------|--------|--------|-------|--------|--------|--------|--------|--------|--------|--------|--------|--------|--------|--------|--------|--------|--------|--------|\n",
    "|Kiehl's ultra facial cream|0.10|0.00|0.10|0.00|0.00|0.05|0.00|0.00|0.00|0.00|0.00|0.00|0.00|0.00|0.00|0.00|0.00|0.00|0.00|0.00|0.00|0.00|\n",
    "|Belif aqua bomb cream|0.20|0.01|0.00|0.00|0.00|0.00|0.00|0.00|0.00|0.00|0.01|0.01|0.00|0.00|0.00|0.00|0.00|0.15|0.01|0.01|0.01|0.00|\n",
    "|Lancôme Bienfait SPF 30 Cream|0.20|0.01|0.15|0.00|0.00|0.00|0.00|0.00|0.01|0.00|0.01|0.01|0.02|0.00|0.00|0.00|0.00|0.00|0.00|0.00|0.00|0.00|\n",
    "|FAB ultra repair cream|0.20|0.03|0.00|0.00|0.00|0.00|0.00|0.00|0.00|0.00|0.00|0.00|0.00|0.00|0.00|0.00|0.00|0.00|0.00|0.00|0.00|0.00|\n",
    "|CeraVe Daily Moisturizing Lotion|0.20|0.04|0.00|0.00|0.00|0.00|0.00|0.00|0.00|0.00|0.00|0.00|0.00|0.00|0.00|0.00|0.00|0.00|0.00|0.00|0.00|0.00|\n",
    "|Olay Regenerist Facial cream|0.20|0.01|0.05|0.03|0.00|0.00|0.00|0.00|0.00|0.00|0.00|0.00|0.00|0.00|0.00|0.00|0.00|0.00|0.00|0.00|0.00|0.00|\n",
    "|La Roche‑Posay toleriane emulsion|0.20|0.02|0.00|0.03|0.00|0.00|0.00|0.00|0.00|0.00|0.00|0.00|0.00|0.00|0.00|0.00|0.00|0.00|0.00|0.00|0.00|0.00|\n",
    "|Embryolisse Lait Creme Concentre|0.00|0.00|0.00|0.00|0.05|0.00|0.00|0.00|0.00|0.00|0.00|0.00|0.05|0.00|0.00|0.00|0.00|0.00|0.00|0.00|0.00|0.00|\n",
    "|Elta MD cleanser|0.00|0.00|0.00|0.00|0.00|0.30|0.00|0.00|0.00|0.00|0.00|0.00|0.00|0.00|0.00|0.00|0.00|0.00|0.00|0.00|0.00|0.00|\n",
    "|Cetaphil Daily Facial Cleanser|0.10|0.02|0.10|0.00|0.00|0.00|0.00|0.00|0.20|0.00|0.00|0.00|0.00|0.00|0.00|0.00|0.00|0.00|0.00|0.00|0.00|0.00|\n",
    "|Kanebo Freeplus Mild Soap|0.20|0.00|0.15|0.05|0.00|0.00|0.20|0.00|0.00|0.00|0.00|0.00|0.00|0.00|0.00|0.00|0.00|0.00|0.00|0.00|0.00|0.00|\n",
    "|Biore UV aqua rich essense|0.00|0.01|0.10|0.00|0.05|0.00|0.00|0.15|0.05|0.01|0.00|0.00|0.00|0.00|0.00|0.00|0.00|0.00|0.00|0.00|0.00|0.00|\n",
    "|Shiseido anessa uv sunscreen|0.10|0.02|0.05|0.02|0.00|0.00|0.00|0.10|0.00|0.00|0.00|0.00|0.00|0.00|0.00|0.00|0.00|0.00|0.00|0.00|0.00|0.00|\n",
    "|Kiehl's Dark Spot Solution|0.20|0.01|0.00|0.01|0.10|0.05|0.01|0.02|0.00|0.00|0.00|0.00|0.00|0.01|0.00|0.00|0.00|0.00|0.00|0.00|0.00|0.00|\n",
    "|Shiseido ELIXIR day care revolution|0.20|0.00|0.15|0.03|0.00|0.00|0.01|0.05|0.00|0.02|0.00|0.00|0.00|0.00|0.00|0.00|0.00|0.00|0.00|0.00|0.00|0.00|\n",
    "|Decorte Liposome Treatment Liquid|0.20|0.00|0.15|0.02|0.05|0.01|0.01|0.00|0.00|0.00|0.00|0.00|0.00|0.00|0.00|0.00|0.00|0.00|0.00|0.00|0.00|0.00|\n",
    "|Estee Lauder ANR serum|0.00|0.01|0.15|0.00|0.00|0.00|0.00|0.00|0.00|0.00|0.00|0.00|0.00|0.00|0.10|0.03|0.03|0.00|0.00|0.00|0.00|0.00|\n",
    "|SK‑II Facial Treatment Essence|0.15|0.00|0.20|0.00|0.00|0.00|0.00|0.00|0.00|0.00|0.00|0.00|0.00|0.00|0.00|0.00|0.00|0.00|0.00|0.00|0.00|0.05|\n",
    "|La Roche‑Posay Effaclar K(+)|0.00|0.00|0.00|0.00|0.10|0.00|0.00|0.00|0.00|0.00|0.00|0.00|0.00|0.05|0.00|0.00|0.00|0.00|0.00|0.00|0.00|0.00|\n",
    "|THE ORDINARY Retinol in Squalane|0.00|0.00|0.00|0.00|0.00|0.00|0.00|0.00|0.00|0.10|0.00|0.00|0.00|0.00|0.00|0.00|0.00|0.00|0.00|0.00|0.00|0.00|\n",
    "                            Table 3. Ingredient list of each product\n",
    "\n",
    "*Note: we’re not responsible for the data."
   ]
  },
  {
   "cell_type": "markdown",
   "metadata": {},
   "source": [
    "Ingredients with their adverse effects can be found in USETox 2.0 (http://www.usetox.org). The adverse effects are classified into three categories: human cancer risk, human non-cancer risk and freshwater ecosystem damage. The unit of the first two is cases/kg, and the unit of the freshwater ecosystem damage is $PAF\\cdot m^3/kg$. Potentially affected fraction (PAF) of species is a measurement about ecotoxicity of chemicals on species diversity loss in the ecosystem. For more information on this unit, please refer to USETox user manual 2.2 Ecotoxicity here (https://www.usetox.org/sites/default/files/support-tutorials/user_manual_usetox.pdf). The adverse effects data for this example is shown below.\n",
    "\n",
    "|Ingredients\\Adverse effects|Human cancer risk|Human non-cancer risk|Freshwater ecosystem risk|\n",
    "|-------|------|-------|--------|\n",
    "|1,3-Propanediol|0.00|0.00|1.28E-01|\n",
    "|Caffeine|0.00|0.00|3.27E+04|\n",
    "|Yellow 5 (Tartrazine)|0.00|0.00|1.75E-01|\n",
    "|Glycerol|0.00|0.00|1.58E-02|\n",
    "|Butylglycolyl|0.00|1.27E-04|4.58E+01|\n",
    "|EDTA Sodium|0.00|0.00|5.82|\n",
    "|Phenoxyethanol|0.00|0.00|2.96|\n",
    "|Methyl acrylate|0.00|0.00|1.44E+02|\n",
    "|Hexanediol|0.00|0.00|8.47E-01|\n",
    "|Geraniol|0.00|0.00|2.71E+02|\n",
    "|Linalool|0.00|0.00|2.46E+01|\n",
    "|Citral|0.00|0.00|1.07E+02|\n",
    "|Limonene|0.00|0.00|2.94E+01|\n",
    "|Citronellol|0.00|0.00|1.28E+02|\n",
    "|Triethanol amine|2.04E-02|0.00|7.51E-01|\n",
    "|Citric acid|0.00|0.00|1.92|\n",
    "|Propylene glycol|0.00|5.08E-04|2.62E-01|\n",
    "|Sodium citrate|0.00|0.00|2.26E-01|\n",
    "|Ethanol|1.26E-04|0.00|3.35E-01|\n",
    "|BHT|3.13E-03|0.00|3.35E+02|\n",
    "|Salicylic acid|0.00|0.00|8.57|\n",
    "|Sorbic acid|0.00|0.00|6.72E-01|\n",
    "                            Table 4. Adverse effects of each ingredients\n",
    "\n",
    "*Note: we’re not responsible for the data. 0 here actually means \"not reported\", which is not exactly the same with \"no effects\"\n",
    "\n",
    "To simplify the problem, we need to assume that our demands for skin care products are stable and won’t change seasonally. Another assumption is that other ingredients which are not shown here won’t cause human health or ecosystem damage.\n",
    "\n",
    "We will mathematically model this into optimization problems, and then provide our code to get solutions. The results are then present and discussed for their real world meanings. Conclusions are given at the end."
   ]
  },
  {
   "cell_type": "markdown",
   "metadata": {},
   "source": [
    "## 2. Mathematical model ##\n",
    "\n",
    "### 2.1 Minimizing annual cost of personal skin care products\n",
    "\n",
    "Each skin care product $i$ can provide some function units in effect $j$ ($r_{i,j}$). Minimal annual requirement in each effect is denoted as $c_j$. In this model, we only care about our budget so we’d like to get a minimal cost of skin care products while satisfying our demands. Annual usage of each product is denoted as $x_i$ for each product $i$. The price of each product is denoted as $p_i$ for each product $i$. Our objective is to minimize annual cost on skin care products\n",
    "\n",
    "\\begin{align}\n",
    "\\text{min}\\sum_i x_i p_i, \\quad i \\in Product\n",
    "\\end{align}\n",
    "\n",
    "To satisfy our demands for skin care, we have the constraints as follows\n",
    "\n",
    "\\begin{equation*}\n",
    "\\ \\sum_i x_i r_{i,j}  \\geq c_j, \\quad i \\in Product, \\quad\\forall j \\in Effect\n",
    "\\end{equation*}\n",
    "\n",
    "Skin care is a continuous cost, it is reasonable to solve this as a linear program which doesn’t require the output to be integers.\n",
    "### 2.2 Balancing skin care products use and public health effects\n",
    "Now we know that chemicals contained in skin care products can be harmful to freshwater ecosystem and human ourself. We don’t want to cause much harm while we still need skin care products. This is also a linear program.\n",
    "\n",
    "#### 2.2a Minimize Adverse Effects while Satisfying Minimal Skin Care Requirement\n",
    "A simple way to solve this problem is to minimize the adverse effects while satisfying the minimal requirement. The percentage of ingredient $k$ in product $i$ is denoted as $A_{i,k}$. Human cancer risk, non-cancer risk and freshwater ecosystem damage by ingredient $k$ per ounce is denoted as $d_{k,1}$, $d_{k,2}$, and $d_{k,3}$, respectively. The adverse effects caused by each product per ounce can then be denoted as $pd_{i,1}$, $pd_{i,2}$ and $pd_{i,3}$.\n",
    "\n",
    "\\begin{equation*}\n",
    "\\ pd_{i,t} = \\sum_i A_{i,k} d_{k,t}, \\quad \\forall t \\in [1,2,3]\n",
    "\\end{equation*}\n",
    "\n",
    "To simplify the problem, we can assume that human cancer effects and human non-cancer effects can be added to each other, while we need to keep ecosystem adverse effects separate from human health effects. Our objective is then to minimize both human health and ecosystem effects\n",
    "\n",
    "\\begin{equation*}\n",
    "\\text{min} \\sum_i x_i (pd_{i,1}+pd_{i,2})+ λ \\sum_i x_i pd_{i,3} \n",
    "\\end{equation*}\n",
    "\n",
    "λ is the weight we put on ecosystem risk relative to human health risk, with higher values meaning we emphasize more on ecosystem risk.\n",
    "The constraints are satisfying our demands for skin care\n",
    "\n",
    "\\begin{equation*}\n",
    "\\ \\sum_i x_i r_{i,j} \\geq c_j, \\quad \\forall j \\in E    \n",
    "\\end{equation*}\n",
    "#### 2.2b Tradeoff between Effects and Adverse Effects of Skin Care Requirement\n",
    "If we’d like to keep our economic lifestyle but still want to minimize adverse effects, then to make a balance, our objective could be\n",
    "\n",
    "\\begin{equation*}\n",
    "\\text{min}\\sum_i x_i p_i + λ_1 \\sum_i x_i (pd_{i,1}+pd_{i,2})+ λ_2 \\sum_i x_i pd_{i,3}\n",
    "\\end{equation*}\n",
    "\n",
    "$λ_1$ and $λ_2$ are the weights we put on human health and ecosystem risk relative to cost. Higher values mean that we emphasize more on human health or ecosystem risk.\n",
    "The constraints are satisfying our demands for skin care\n",
    "\n",
    "\\begin{equation*}\n",
    "\\ \\sum_i x_i r_{i,j} \\geq c_j, \\quad \\forall j \\in E\n",
    "\\end{equation*}\n"
   ]
  },
  {
   "cell_type": "markdown",
   "metadata": {},
   "source": [
    "## 3. Solution ##\n",
    "\n",
    "### 3.1 Minimize Annual Cost on Personal Skin Care Products###"
   ]
  },
  {
   "cell_type": "code",
   "execution_count": 2,
   "metadata": {},
   "outputs": [
    {
     "name": "stdout",
     "output_type": "stream",
     "text": [
      "\n",
      "Total cost will be $79.52645960505993\n",
      "The amount of FAB ultra repair cream is: 1.6\n",
      "The amount of Cetaphil Daily Facial Cleanser is: 45.283018867924525\n",
      "The amount of Biore UV aqua rich essense is: 4.968944099378883\n",
      "The amount of THE ORDINARY Retinol in Squalane is: 0.4219471533320548\n",
      "The amount of all other products are 0 \n",
      "The total cost will be $79.52645960505993\n"
     ]
    }
   ],
   "source": [
    "#You will probably need to run \"Pkg.add(...)\" before using these packages\n",
    "using DataFrames, CSV, NamedArrays\n",
    "#Load the data file (ref: Boyd/263)\n",
    "\n",
    "#model1 - minimize annual cost\n",
    "raw1 = CSV.read(\"E:/work/524/product_effects.csv\", allowmissing=:none); # you may need to change the directory\n",
    "#you may need to change allowmissing=:none to nullable = false\n",
    "# turn DataFrame into an array\n",
    "pe = convert(Array,raw1);\n",
    "# the ‘‘names’’ of the DataFrame (header) are the effects\n",
    "eff= names(raw1[2:end-1]);\n",
    "# create a list of product from pe\n",
    "prdt = pe[1:end,1];\n",
    "\n",
    "#create a list of price of each product_effects\n",
    "p = pe[1:end,end]\n",
    "price = Dict(zip(prdt,p))\n",
    "\n",
    "requirement= [25,12,48,24,7,4]\n",
    "# create a dictionary of the min demand of each effects\n",
    "c = Dict(zip(eff, requirement))\n",
    "\n",
    "# create a NamedArray that specifies how much of each nutrient each food provides\n",
    "using NamedArrays\n",
    "prdt_eff = pe[1:end,2:end-1] # rows are products, columns are effects\n",
    "r = NamedArray(prdt_eff, (prdt, eff), (\"products\",\"effects\"))\n",
    "\n",
    "using JuMP,  Clp\n",
    "m1 = Model(solver=ClpSolver()) # create model named m\n",
    "\n",
    "#recipe\n",
    "@variable(m1, x[prdt] >= 0)\n",
    "@constraint(m1, constr[i in eff], sum(r[t, i] * x[t] for t in prdt) >= c[i])\n",
    "@objective(m1, Min, sum(x[i]*price[i] for i in prdt))\n",
    "\n",
    "status = solve(m1)\n",
    "#println(getvalue(recipe))\n",
    "println(\"\\nTotal cost will be \\$\", getobjectivevalue(m1))\n",
    "for i in prdt\n",
    "    if getvalue(x[i]) != 0\n",
    "      println(\"The amount of \", i, \" is: \", getvalue(x[i]))# print result\n",
    "    end\n",
    "end\n",
    "println(\"The amount of all other products are 0 \\nThe total cost will be \\$\", getobjectivevalue(m1))"
   ]
  },
  {
   "cell_type": "markdown",
   "metadata": {},
   "source": [
    "### 3.2 Balancing skin care products use and public health effects\n",
    "#### 3.2a Minimize Adverse Effects of Public Health###"
   ]
  },
  {
   "cell_type": "code",
   "execution_count": 3,
   "metadata": {},
   "outputs": [
    {
     "data": {
      "text/plain": [
       "(x: 1 dimensions:\n",
       "[         Kiehl's ultra facial cream] = 1.2357807167035204\n",
       "[              Belif aqua bomb cream] = 0.0\n",
       "[      Lancome Bienfait SPF 30 Cream] = 0.0\n",
       "[             FAB ultra repair cream] = 0.0\n",
       "[   CeraVe Daily Moisturizing Lotion] = 0.0\n",
       "[       Olay Regenerist Facial cream] = 0.0\n",
       "[  La Roche_Posay toleriane emulsion] = 0.0\n",
       "[   Embryolisse Lait Creme Concentre] = 0.0\n",
       "[                   Elta MD cleanser] = 0.0\n",
       "[     Cetaphil Daily Facial Cleanser] = 0.0\n",
       "[          Kanebo Freeplus Mild Soap] = 0.0\n",
       "[         Biore UV aqua rich essense] = 4.968944099378883\n",
       "[       Shiseido anessa uv sunscreen] = 0.0\n",
       "[         Kiehl's Dark Spot Solution] = 0.0\n",
       "[Shiseido ELIXIR day care revolution] = 0.0\n",
       "[  Decorte Liposome Treatment Liquid] = 0.0\n",
       "[             Estee Lauder ANR serum] = 0.3947550034506556\n",
       "[     SK_II Facial Treatment Essence] = 0.0\n",
       "[       La Roche_Posay Effaclar K(+)] = 37.79527559055118\n",
       "[   THE ORDINARY Retinol in Squalane] = 0.0, 0.002576392143772623, 203.0103480959346)"
      ]
     },
     "execution_count": 3,
     "metadata": {},
     "output_type": "execute_result"
    }
   ],
   "source": [
    "#model2 - minimize adverse effects\n",
    "raw2 = CSV.read(\"E:/work/524/product_ingredients.csv\", allowmissing=:none);\n",
    "# turn DataFrame into an array\n",
    "pi = convert(Array,raw2)\n",
    "# the ‘‘names’’ of the DataFrame (header) are the ingredients\n",
    "igdt= names(raw2[2:end])\n",
    "\n",
    "# create a NamedArray that specifies how much of each ingredient each product provides\n",
    "prdt_igdt = pi[1:end,2:end] # rows are products, columns are ingredients\n",
    "A = NamedArray(prdt_igdt, (prdt, igdt), (\"products\",\"ingredients\"))\n",
    "\n",
    "raw3 = CSV.read(\"E:/work/524/ingredient_effects.csv\", allowmissing=:none);\n",
    "#turn DataFrame into an Array\n",
    "ie = convert(Array, raw3)\n",
    "# the ‘‘names’’ of the DataFrame (header) are the adverse effects\n",
    "#ad_eff = names(raw3[2:end])\n",
    "ad_eff = [1,2,3]  #3 kind of adverse effects. 1: human cancer risk; 2: human noncancer risk; 3: ecosystem risk\n",
    "# create a NamedArray that specifies how much of each ad-effects each ingredients provides\n",
    "igdt_ad = ie[1:end,2:end] # rows are ingredients, columns are adverse effects\n",
    "d = NamedArray(igdt_ad, (igdt, ad_eff), (\"ingredients\",\"adverse effects\"))\n",
    "pd = Dict()\n",
    "for i in prdt\n",
    "    for t in ad_eff\n",
    "        pd[(i,t)] = sum(A[i,k]*d[k,t] for k in igdt)\n",
    "    end\n",
    "end\n",
    "function min_adverse(λ)\n",
    "    m2 = Model(solver=ClpSolver())\n",
    "    @variable(m2, x[prdt]>=0) #usage of each product\n",
    "    @constraint(m2, requirement[j in eff], sum(x[i]*r[i,j]  for i in prdt) >= c[j]) #need to meet the requirement\n",
    "                                                                                    #for each effects\n",
    "    @objective(m2, Min, sum(x[i]*(pd[(i,1)] + pd[(i,2)]) for i in prdt) + λ*sum(x[i] * pd[(i,3)] for i in prdt))\n",
    "    solve(m2)\n",
    "    human_health = getvalue(sum(x[i]*(pd[(i,1)] + pd[(i,2)]) for i in prdt))\n",
    "    ecosystem = getvalue(sum(x[i] * pd[(i,3)] for i in prdt))\n",
    "#     for i in prdt\n",
    "#      if getvalue(x[i]) != 0\n",
    "#       println(\"The amount of \", i, \" is: \", getvalue(x[i]))# print result\n",
    "#      end\n",
    "#     end\n",
    "#     println(\"The amount of all other products are 0 \\nThe total cost will be \\$\", getobjectivevalue(m2))\n",
    "   return(getvalue(x), human_health,ecosystem)\n",
    "end\n",
    "\n",
    "min_adverse(1) #you can adjust param value here"
   ]
  },
  {
   "cell_type": "markdown",
   "metadata": {},
   "source": [
    "#### 3.2b Minimize Total Cost and Adverse Effects ###"
   ]
  },
  {
   "cell_type": "code",
   "execution_count": 4,
   "metadata": {},
   "outputs": [
    {
     "data": {
      "text/plain": [
       "(86.53494010141345, x: 1 dimensions:\n",
       "[         Kiehl's ultra facial cream] = 0.33797710847322543\n",
       "[              Belif aqua bomb cream] = 0.0\n",
       "[      Lancome Bienfait SPF 30 Cream] = 0.0\n",
       "[             FAB ultra repair cream] = 0.0\n",
       "[   CeraVe Daily Moisturizing Lotion] = 0.0\n",
       "[       Olay Regenerist Facial cream] = 0.0\n",
       "[  La Roche_Posay toleriane emulsion] = 0.0\n",
       "[   Embryolisse Lait Creme Concentre] = 0.0\n",
       "[                   Elta MD cleanser] = 0.0\n",
       "[     Cetaphil Daily Facial Cleanser] = 45.163213242847064\n",
       "[          Kanebo Freeplus Mild Soap] = 0.0\n",
       "[         Biore UV aqua rich essense] = 4.968944099378883\n",
       "[       Shiseido anessa uv sunscreen] = 0.0\n",
       "[         Kiehl's Dark Spot Solution] = 0.0\n",
       "[Shiseido ELIXIR day care revolution] = 0.0\n",
       "[  Decorte Liposome Treatment Liquid] = 0.0\n",
       "[             Estee Lauder ANR serum] = 0.0\n",
       "[     SK_II Facial Treatment Essence] = 0.49344375431331955\n",
       "[       La Roche_Posay Effaclar K(+)] = 0.09999524612764309\n",
       "[   THE ORDINARY Retinol in Squalane] = 0.0, 0.0010129632715416468, 315.8950744031714)"
      ]
     },
     "execution_count": 4,
     "metadata": {},
     "output_type": "execute_result"
    }
   ],
   "source": [
    "function min_cost_n_adverse(λ_1,λ_2)\n",
    "    m3 = Model(solver=ClpSolver())\n",
    "    @variable(m3, x[prdt]>=0)\n",
    "    @constraint(m3, requirement[j in eff], sum(x[i]*r[i,j]  for i in prdt) >= c[j]) #need to meet the requirement\n",
    "                                                                                    #for each effects\n",
    "    @objective(m3, Min, sum(x[i]*price[i] for i in prdt) + λ_1*sum(x[i]*(pd[(i,1)] + pd[(i,2)]) for i in prdt) + λ_2*sum(x[i] * pd[(i,3)] for i in prdt))\n",
    "    solve(m3)\n",
    "    human_health = getvalue(sum(x[i]*(pd[(i,1)] + pd[(i,2)]) for i in prdt))\n",
    "    ecosystem = getvalue(sum(x[i] * pd[(i,3)] for i in prdt))\n",
    "    plan = getvalue(x)\n",
    "    cost = getvalue(sum(x[i]*price[i] for i in prdt))\n",
    "#     for i in prdt\n",
    "#      if getvalue(x[i]) != 0\n",
    "#       println(\"The amount of \", i, \" is: \", getvalue(x[i]))# print result\n",
    "#      end\n",
    "#     end\n",
    "#     println(\"The amount of all other products are 0 \\nThe total cost will be \\$\", getobjectivevalue(m3))\n",
    "     return(cost, plan, human_health,ecosystem)\n",
    "end\n",
    "\n",
    "min_cost_n_adverse(10,0.1) #you can adjust param value here"
   ]
  },
  {
   "cell_type": "markdown",
   "metadata": {},
   "source": [
    "## 4. Results and discussion ##\n",
    "\n",
    "### 4.1 Minimize Annual Cost on Personal Skin Care Products###\n",
    "The minimized annual cost in this example (using only these 20 products and the data provided before) is 79.53$. The usage of each product is shown as follows."
   ]
  },
  {
   "cell_type": "markdown",
   "metadata": {},
   "source": [
    "|Product|Usage(oz)|\n",
    "|-------|------|\n",
    "|FAB ultra repair cream|1.6|\n",
    "|Cetaphil Daily Facial Cleanser|45.28|\n",
    "|Biore UV aqua rich essense|4.97|\n",
    "|THE ORDINARY Retinol in Squalane|0.422|\n",
    "\n",
    "                            Table 5. Optimal plan with minimized annual cost"
   ]
  },
  {
   "cell_type": "markdown",
   "metadata": {},
   "source": [
    "To know what effects are limiting our use of skin care products, we can conduct a dual analysis to find the shadow price."
   ]
  },
  {
   "cell_type": "code",
   "execution_count": 5,
   "metadata": {},
   "outputs": [
    {
     "name": "stdout",
     "output_type": "stream",
     "text": [
      "λ: 1 dimensions:\n",
      "[ moisturizing] = 0.0\n",
      "[   anti-aging] = 0.6199524940617577\n",
      "[     cleaning] = 0.7452830188679245\n",
      "[uv-protection] = 1.1130601987774351\n",
      "[     soothing] = 0.0\n",
      "[ acne-healing] = 2.4\n"
     ]
    }
   ],
   "source": [
    "using JuMP,  Clp\n",
    "m4 = Model(solver=ClpSolver()) # shadow price model, also a linear program\n",
    "\n",
    "#shadow price\n",
    "@variable(m4, λ[eff] >= 0)\n",
    "@constraint(m4, constr[i in prdt], sum(r[i, t] * λ[t] for t in eff) <= price[i])\n",
    "@objective(m4, Max, sum(c[i]*λ[i] for i in eff))\n",
    "\n",
    "status = solve(m4)\n",
    "println(getvalue(λ))"
   ]
  },
  {
   "cell_type": "markdown",
   "metadata": {},
   "source": [
    "Using the code above, we can get the shadow prices of each effects as follows:\n",
    "\n",
    "|Effect|Shadow price($/oz)|\n",
    "|-------|------|\n",
    "|moisturizing|0|\n",
    "|anti-aging|0.62|\n",
    "|cleaning|0.74|\n",
    "|uv-protection|1.11|\n",
    "|soothing|0|\n",
    "|acne-healing|2.4|\n",
    "                            Table 6. Shadow prices of each effect"
   ]
  },
  {
   "cell_type": "markdown",
   "metadata": {},
   "source": [
    "Now we can see that we'd like to pay more for more anti-aging, cleaning, uv-protection and acne-healing. Acne-healing has the highest shadow price. It is an advanced effect compared to other basic effects like moisturizing and cleaning, so the products which can provide acne-healing are usually more expensive. "
   ]
  },
  {
   "cell_type": "markdown",
   "metadata": {},
   "source": [
    "### 4.2 Balancing skin care products use and public health effects\n",
    "#### 4.2a Minimize Adverse Effects of Public Health###\n",
    "Since we have changable weights on ecosystem risk, the best way to present the results is using Pareto curve. Here is the code which user can use to generate the Pareto curve for this example. Parameters can be modified to user's own purpose.\n",
    "\n",
    "*Note: In this example, human health risk usually has much smaller values than ecosystem risk. To make the curve more readable, we plot human health risk on a natural log scale."
   ]
  },
  {
   "cell_type": "code",
   "execution_count": 6,
   "metadata": {},
   "outputs": [
    {
     "data": {
      "image/png": "[encoded data removed]",
      "text/plain": [
       "PyPlot.Figure(PyObject <Figure size 800x400 with 1 Axes>)"
      ]
     },
     "metadata": {},
     "output_type": "display_data"
    },
    {
     "name": "stderr",
     "output_type": "stream",
     "text": [
      "\u001b[1m\u001b[33mWARNING: \u001b[39m\u001b[22m\u001b[33mlog(x::AbstractArray{T}) where T <: Number is deprecated, use log.(x) instead.\u001b[39m\n",
      "Stacktrace:\n",
      " [1] \u001b[1mdepwarn\u001b[22m\u001b[22m\u001b[1m(\u001b[22m\u001b[22m::String, ::Symbol\u001b[1m)\u001b[22m\u001b[22m at \u001b[1m.\\deprecated.jl:70\u001b[22m\u001b[22m\n",
      " [2] \u001b[1mlog\u001b[22m\u001b[22m\u001b[1m(\u001b[22m\u001b[22m::Array{Float64,1}\u001b[1m)\u001b[22m\u001b[22m at \u001b[1m.\\deprecated.jl:57\u001b[22m\u001b[22m\n",
      " [3] \u001b[1minclude_string\u001b[22m\u001b[22m\u001b[1m(\u001b[22m\u001b[22m::String, ::String\u001b[1m)\u001b[22m\u001b[22m at \u001b[1m.\\loading.jl:522\u001b[22m\u001b[22m\n",
      " [4] \u001b[1mexecute_request\u001b[22m\u001b[22m\u001b[1m(\u001b[22m\u001b[22m::ZMQ.Socket, ::IJulia.Msg\u001b[1m)\u001b[22m\u001b[22m at \u001b[1mE:\\software\\Julia\\pkgs-0.6.3.1\\v0.6\\IJulia\\src\\execute_request.jl:158\u001b[22m\u001b[22m\n",
      " [5] \u001b[1m(::Compat.#inner#18{Array{Any,1},IJulia.#execute_request,Tuple{ZMQ.Socket,IJulia.Msg}})\u001b[22m\u001b[22m\u001b[1m(\u001b[22m\u001b[22m\u001b[1m)\u001b[22m\u001b[22m at \u001b[1mE:\\\\\\\\\\\\\\\\\\\\\\\\\\\\\\\\\\\\\\\\\\\\\\\\\\\\\\\\\\\\\\\\\\\\\\\\\\\\\\\\\\\\\\\\\\\\\\\\\\\\\\\\\\\\\\\\\\\\\\\\\\\\\\\\\\\\\\\\\\\\\\\\\\\\\\\\\\\\\\\\\\\\\\software\\Julia\\pkgs-0.6.3.1\\v0.6\\Compat\\src\\Compat.jl:386\u001b[22m\u001b[22m\n",
      " [6] \u001b[1meventloop\u001b[22m\u001b[22m\u001b[1m(\u001b[22m\u001b[22m::ZMQ.Socket\u001b[1m)\u001b[22m\u001b[22m at \u001b[1mE:\\software\\Julia\\pkgs-0.6.3.1\\v0.6\\IJulia\\src\\eventloop.jl:8\u001b[22m\u001b[22m\n",
      " [7] \u001b[1m(::IJulia.##14#17)\u001b[22m\u001b[22m\u001b[1m(\u001b[22m\u001b[22m\u001b[1m)\u001b[22m\u001b[22m at \u001b[1m.\\task.jl:335\u001b[22m\u001b[22m\n",
      "while loading In[6], in expression starting on line 13\n"
     ]
    },
    {
     "data": {
      "text/plain": [
       "PyObject Text(0.5,1,'Pareto Curve for Human Health VS Ecosystem Risk')"
      ]
     },
     "execution_count": 6,
     "metadata": {},
     "output_type": "execute_result"
    }
   ],
   "source": [
    "Npts = 5\n",
    "y1 = zeros(Npts)\n",
    "y2 = zeros(Npts)\n",
    "\n",
    "for i in 1:Npts\n",
    "    result = min_adverse(0.000000001*(10^(i)))\n",
    "    y1[i] = result[2]  #human health\n",
    "    y2[i] = result[3]  #ecosystem\n",
    "end\n",
    "\n",
    "using PyPlot, Gurobi\n",
    "figure(figsize=(8,4))\n",
    "plot(log(y1),y2,\"b.-\")       #note: here we plot the natural log of human health effects because it usually has very small values\n",
    "xlabel(L\"ln(y_1) [ln(cases)]\")\n",
    "ylabel(L\"$y_2(PAF\\cdot m^3)$\")\n",
    "title(\"Pareto Curve for Human Health VS Ecosystem Risk\")"
   ]
  },
  {
   "cell_type": "markdown",
   "metadata": {},
   "source": [
    "It's obvious that if we put much weight on ecosystem risk, then human health risk will increase. And if we put less weight on ecosystem risk, then ecosystem risk will increase."
   ]
  },
  {
   "cell_type": "markdown",
   "metadata": {},
   "source": [
    "#### 4.2b Minimize Total Cost and Adverse Effects###\n",
    "In this case, the minimal cost will be dependent on how much we care about ourselves and ecosystem. If we care about ourselves ($λ_1$ = 10) but not very much about ecosystem ($λ_2$ = 0.1), then the minimal annual cost is 86.53$ and the plan is provided below."
   ]
  },
  {
   "cell_type": "markdown",
   "metadata": {},
   "source": [
    "|Product|Annual Usage(oz)|\n",
    "|-------|------|\n",
    "|Kiehl's ultra facial cream|0.34|\n",
    "|Cetaphil Daily Facial Cleanser|45.16|\n",
    "|Biore UV aqua rich essense|4.97|\n",
    "|SK‑II Facial Treatment Essence|0.49|\n",
    "|La Roche‑Posay Effaclar K(+)|0.010|\n",
    "\n",
    "                          Table 7. Optimal plan with minimized cost and adverse effects ($λ_1$ = 10, $λ_2$ = 0.1)\n",
    "\n",
    "\n",
    "To set the user's own weights, please adjust $λ_1$ and $λ_2$ values here: "
   ]
  },
  {
   "cell_type": "code",
   "execution_count": 98,
   "metadata": {},
   "outputs": [
    {
     "data": {
      "text/plain": [
       "(86.53494010141345, x: 1 dimensions:\n",
       "[         Kiehl's ultra facial cream] = 0.33797710847322543\n",
       "[              Belif aqua bomb cream] = 0.0\n",
       "[      Lancome Bienfait SPF 30 Cream] = 0.0\n",
       "[             FAB ultra repair cream] = 0.0\n",
       "[   CeraVe Daily Moisturizing Lotion] = 0.0\n",
       "[       Olay Regenerist Facial cream] = 0.0\n",
       "[  La Roche_Posay toleriane emulsion] = 0.0\n",
       "[   Embryolisse Lait Creme Concentre] = 0.0\n",
       "[                   Elta MD cleanser] = 0.0\n",
       "[     Cetaphil Daily Facial Cleanser] = 45.163213242847064\n",
       "[          Kanebo Freeplus Mild Soap] = 0.0\n",
       "[         Biore UV aqua rich essense] = 4.968944099378883\n",
       "[       Shiseido anessa uv sunscreen] = 0.0\n",
       "[         Kiehl's Dark Spot Solution] = 0.0\n",
       "[Shiseido ELIXIR day care revolution] = 0.0\n",
       "[  Decorte Liposome Treatment Liquid] = 0.0\n",
       "[             Estee Lauder ANR serum] = 0.0\n",
       "[     SK_II Facial Treatment Essence] = 0.49344375431331955\n",
       "[       La Roche_Posay Effaclar K(+)] = 0.09999524612764309\n",
       "[   THE ORDINARY Retinol in Squalane] = 0.0, 0.0010129632715416468, 315.8950744031714)"
      ]
     },
     "execution_count": 98,
     "metadata": {},
     "output_type": "execute_result"
    }
   ],
   "source": [
    "min_cost_n_adverse(10,0.1) #you can adjust param value here, the first argument is λ_1, and the second is λ_2"
   ]
  },
  {
   "cell_type": "markdown",
   "metadata": {},
   "source": [
    "### 4.3 Discussion###\n",
    "In general, our model can provide the users with optimal plan of their skin care use with different purposes. This model is quite easily to be modified specifically to personal lifestyle and to satisfy different needs in different periods. However, there are some limitations of our model.\n",
    "\n",
    "The most important limitation is getting reliable data. It's difficult to get a comprehensive list of all products on the market. There are too many products with quite different effects. The rates of each product in each effect can be arbitrary since they come from the user's past experience. When estimate the adverse effects, users can find it hard to get a list of ingredients and their proportion in the product. And many ingredients don't have records of their adverse effects.\n",
    "\n",
    "Another limitation is that we didn't consider the length of preservation of some sensitive products. We can see that in some plans, annual usage of some products are quite small. However, the product may deteriorate before the user can use it up. Then it requires higher price for this product and the results are prone to error. We didn't either consider the sale price or bundle price of some products, which might decrease their prices.\n",
    "\n",
    "This model is sensitive to our assumptions. Users can have quite different demands in different seasaons, which means they can have differernt plans at a smaller temporal resolution. Also if other ingredients were reported to adversly affect human health and/or freshwater ecosystem, the plan might also change according to the new ingredients. Cancer and non-cancer cases are of different severity for human health, thus if we didn't combine them together, the model requires another weight paramter and the optimal plan will also change.\n"
   ]
  },
  {
   "cell_type": "markdown",
   "metadata": {},
   "source": [
    "## 5. Conclusion ##\n",
    "\n",
    "In this example, the minimal annual cost is 79.53. Acne-healing has the highest shadow price. To minimize adverse effects, we will need to determine the weight we put on ecosystem risk. Higher weight will cause lower ecosystem risk but higher human health risk, and lower weight will cause higher ecosystem risk but lower human health risk. The lowest human health risk we can get is around 1e-10 cases of both cancer and non-caner disease, while the lowest freshwater ecosystem risk we can get is around 200 $PAF\\cdot m^3$. When we care both minimal cost and adverse effects, we usually end up with moderate cost and adverse effects.\n",
    "\n",
    "The model can be improved by including more types of effects and a more objective way to quantify how much they could provide for each effects. It is also interesting to model this as an integer progam in a shorter time than a year, since the product usually comes in whole containers rather than ounces.\n"
   ]
  }
 ],
 "metadata": {
  "kernelspec": {
   "display_name": "Julia 0.6.2",
   "language": "julia",
   "name": "julia-0.6"
  },
  "language_info": {
   "file_extension": ".jl",
   "mimetype": "application/julia",
   "name": "julia",
   "version": "0.6.2"
  }
 },
 "nbformat": 4,
 "nbformat_minor": 2
}
